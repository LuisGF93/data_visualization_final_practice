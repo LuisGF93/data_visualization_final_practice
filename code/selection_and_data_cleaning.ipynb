{
 "cells": [
  {
   "cell_type": "markdown",
   "metadata": {},
   "source": [
    "<h3>Library imports</h3>"
   ]
  },
  {
   "cell_type": "code",
   "execution_count": 1,
   "metadata": {},
   "outputs": [],
   "source": [
    "import pandas as pd\n",
    "import matplotlib.pyplot as plt"
   ]
  },
  {
   "cell_type": "code",
   "execution_count": 32,
   "metadata": {},
   "outputs": [],
   "source": [
    "# Load data\n",
    "houses = pd.read_csv('/Users/luisgarciafresno/pra_ii/datasets/base_data/houses_Madrid.csv')"
   ]
  },
  {
   "attachments": {},
   "cell_type": "markdown",
   "metadata": {},
   "source": [
    "<h3>Analyze Madrid_houses dataset</h3>"
   ]
  },
  {
   "cell_type": "code",
   "execution_count": 33,
   "metadata": {},
   "outputs": [],
   "source": [
    "# Creating full address and geocoding data using latitude and longitude\n",
    "houses['title'] = houses['title'].str.replace('Piso en venta en ', '')\n",
    "houses['full_title'] = houses['title']+', '+houses['subtitle']"
   ]
  },
  {
   "cell_type": "code",
   "execution_count": null,
   "metadata": {},
   "outputs": [
    {
     "data": {
      "text/html": [
       "<div>\n",
       "<style scoped>\n",
       "    .dataframe tbody tr th:only-of-type {\n",
       "        vertical-align: middle;\n",
       "    }\n",
       "\n",
       "    .dataframe tbody tr th {\n",
       "        vertical-align: top;\n",
       "    }\n",
       "\n",
       "    .dataframe thead th {\n",
       "        text-align: right;\n",
       "    }\n",
       "</style>\n",
       "<table border=\"1\" class=\"dataframe\">\n",
       "  <thead>\n",
       "    <tr style=\"text-align: right;\">\n",
       "      <th></th>\n",
       "      <th>Unnamed: 0</th>\n",
       "      <th>id</th>\n",
       "      <th>title</th>\n",
       "      <th>subtitle</th>\n",
       "      <th>sq_mt_built</th>\n",
       "      <th>sq_mt_useful</th>\n",
       "      <th>n_rooms</th>\n",
       "      <th>n_bathrooms</th>\n",
       "      <th>n_floors</th>\n",
       "      <th>sq_mt_allotment</th>\n",
       "      <th>...</th>\n",
       "      <th>has_parking</th>\n",
       "      <th>has_private_parking</th>\n",
       "      <th>has_public_parking</th>\n",
       "      <th>is_parking_included_in_price</th>\n",
       "      <th>parking_price</th>\n",
       "      <th>is_orientation_north</th>\n",
       "      <th>is_orientation_west</th>\n",
       "      <th>is_orientation_south</th>\n",
       "      <th>is_orientation_east</th>\n",
       "      <th>full_title</th>\n",
       "    </tr>\n",
       "  </thead>\n",
       "  <tbody>\n",
       "    <tr>\n",
       "      <th>0</th>\n",
       "      <td>0</td>\n",
       "      <td>21742</td>\n",
       "      <td>calle de Godella, 64</td>\n",
       "      <td>San Cristóbal</td>\n",
       "      <td>64.0</td>\n",
       "      <td>60.0</td>\n",
       "      <td>2</td>\n",
       "      <td>1.0</td>\n",
       "      <td>NaN</td>\n",
       "      <td>NaN</td>\n",
       "      <td>...</td>\n",
       "      <td>False</td>\n",
       "      <td>NaN</td>\n",
       "      <td>NaN</td>\n",
       "      <td>NaN</td>\n",
       "      <td>NaN</td>\n",
       "      <td>False</td>\n",
       "      <td>True</td>\n",
       "      <td>False</td>\n",
       "      <td>False</td>\n",
       "      <td>calle de Godella, 64, San Cristóbal, Madrid</td>\n",
       "    </tr>\n",
       "    <tr>\n",
       "      <th>1</th>\n",
       "      <td>1</td>\n",
       "      <td>21741</td>\n",
       "      <td>calle de la del Manojo de Rosas</td>\n",
       "      <td>Los Ángeles</td>\n",
       "      <td>70.0</td>\n",
       "      <td>NaN</td>\n",
       "      <td>3</td>\n",
       "      <td>1.0</td>\n",
       "      <td>NaN</td>\n",
       "      <td>NaN</td>\n",
       "      <td>...</td>\n",
       "      <td>False</td>\n",
       "      <td>NaN</td>\n",
       "      <td>NaN</td>\n",
       "      <td>NaN</td>\n",
       "      <td>NaN</td>\n",
       "      <td>NaN</td>\n",
       "      <td>NaN</td>\n",
       "      <td>NaN</td>\n",
       "      <td>NaN</td>\n",
       "      <td>calle de la del Manojo de Rosas, Los Ángeles, ...</td>\n",
       "    </tr>\n",
       "    <tr>\n",
       "      <th>2</th>\n",
       "      <td>2</td>\n",
       "      <td>21740</td>\n",
       "      <td>calle del Talco, 68</td>\n",
       "      <td>San Andrés</td>\n",
       "      <td>94.0</td>\n",
       "      <td>54.0</td>\n",
       "      <td>2</td>\n",
       "      <td>2.0</td>\n",
       "      <td>NaN</td>\n",
       "      <td>NaN</td>\n",
       "      <td>...</td>\n",
       "      <td>False</td>\n",
       "      <td>NaN</td>\n",
       "      <td>NaN</td>\n",
       "      <td>NaN</td>\n",
       "      <td>NaN</td>\n",
       "      <td>NaN</td>\n",
       "      <td>NaN</td>\n",
       "      <td>NaN</td>\n",
       "      <td>NaN</td>\n",
       "      <td>calle del Talco, 68, San Andrés, Madrid</td>\n",
       "    </tr>\n",
       "    <tr>\n",
       "      <th>3</th>\n",
       "      <td>3</td>\n",
       "      <td>21739</td>\n",
       "      <td>calle Pedro Jiménez</td>\n",
       "      <td>San Andrés</td>\n",
       "      <td>64.0</td>\n",
       "      <td>NaN</td>\n",
       "      <td>2</td>\n",
       "      <td>1.0</td>\n",
       "      <td>NaN</td>\n",
       "      <td>NaN</td>\n",
       "      <td>...</td>\n",
       "      <td>False</td>\n",
       "      <td>NaN</td>\n",
       "      <td>NaN</td>\n",
       "      <td>NaN</td>\n",
       "      <td>NaN</td>\n",
       "      <td>False</td>\n",
       "      <td>False</td>\n",
       "      <td>True</td>\n",
       "      <td>False</td>\n",
       "      <td>calle Pedro Jiménez, San Andrés, Madrid</td>\n",
       "    </tr>\n",
       "    <tr>\n",
       "      <th>4</th>\n",
       "      <td>4</td>\n",
       "      <td>21738</td>\n",
       "      <td>carretera de Villaverde a Vallecas</td>\n",
       "      <td>Los Rosales</td>\n",
       "      <td>108.0</td>\n",
       "      <td>90.0</td>\n",
       "      <td>2</td>\n",
       "      <td>2.0</td>\n",
       "      <td>NaN</td>\n",
       "      <td>NaN</td>\n",
       "      <td>...</td>\n",
       "      <td>True</td>\n",
       "      <td>NaN</td>\n",
       "      <td>NaN</td>\n",
       "      <td>True</td>\n",
       "      <td>0.0</td>\n",
       "      <td>True</td>\n",
       "      <td>True</td>\n",
       "      <td>True</td>\n",
       "      <td>True</td>\n",
       "      <td>carretera de Villaverde a Vallecas, Los Rosale...</td>\n",
       "    </tr>\n",
       "  </tbody>\n",
       "</table>\n",
       "<p>5 rows × 59 columns</p>\n",
       "</div>"
      ],
      "text/plain": [
       "   Unnamed: 0     id                               title       subtitle  \\\n",
       "0           0  21742                calle de Godella, 64  San Cristóbal   \n",
       "1           1  21741     calle de la del Manojo de Rosas    Los Ángeles   \n",
       "2           2  21740                 calle del Talco, 68     San Andrés   \n",
       "3           3  21739                 calle Pedro Jiménez     San Andrés   \n",
       "4           4  21738  carretera de Villaverde a Vallecas    Los Rosales   \n",
       "\n",
       "   sq_mt_built  sq_mt_useful  n_rooms  n_bathrooms  n_floors  sq_mt_allotment  \\\n",
       "0         64.0          60.0        2          1.0       NaN              NaN   \n",
       "1         70.0           NaN        3          1.0       NaN              NaN   \n",
       "2         94.0          54.0        2          2.0       NaN              NaN   \n",
       "3         64.0           NaN        2          1.0       NaN              NaN   \n",
       "4        108.0          90.0        2          2.0       NaN              NaN   \n",
       "\n",
       "   ...  has_parking  has_private_parking has_public_parking  \\\n",
       "0  ...        False                  NaN                NaN   \n",
       "1  ...        False                  NaN                NaN   \n",
       "2  ...        False                  NaN                NaN   \n",
       "3  ...        False                  NaN                NaN   \n",
       "4  ...         True                  NaN                NaN   \n",
       "\n",
       "   is_parking_included_in_price parking_price is_orientation_north  \\\n",
       "0                           NaN           NaN                False   \n",
       "1                           NaN           NaN                  NaN   \n",
       "2                           NaN           NaN                  NaN   \n",
       "3                           NaN           NaN                False   \n",
       "4                          True           0.0                 True   \n",
       "\n",
       "   is_orientation_west is_orientation_south is_orientation_east  \\\n",
       "0                 True                False               False   \n",
       "1                  NaN                  NaN                 NaN   \n",
       "2                  NaN                  NaN                 NaN   \n",
       "3                False                 True               False   \n",
       "4                 True                 True                True   \n",
       "\n",
       "                                          full_title  \n",
       "0        calle de Godella, 64, San Cristóbal, Madrid  \n",
       "1  calle de la del Manojo de Rosas, Los Ángeles, ...  \n",
       "2            calle del Talco, 68, San Andrés, Madrid  \n",
       "3            calle Pedro Jiménez, San Andrés, Madrid  \n",
       "4  carretera de Villaverde a Vallecas, Los Rosale...  \n",
       "\n",
       "[5 rows x 59 columns]"
      ]
     },
     "execution_count": 34,
     "metadata": {},
     "output_type": "execute_result"
    }
   ],
   "source": [
    "# Creating new column with the normalized district name to find zip codes\n",
    "houses['subtitle'] = houses['subtitle'].str.replace(', Madrid', '')\n",
    "houses.head()"
   ]
  },
  {
   "cell_type": "code",
   "execution_count": 37,
   "metadata": {},
   "outputs": [
    {
     "name": "stdout",
     "output_type": "stream",
     "text": [
      "First approach to null values.\n"
     ]
    },
    {
     "data": {
      "image/png": "[encoded data removed]",
      "text/plain": [
       "<Figure size 640x480 with 1 Axes>"
      ]
     },
     "metadata": {},
     "output_type": "display_data"
    },
    {
     "name": "stdout",
     "output_type": "stream",
     "text": [
      "We're deleting only full null columns, then we're selecting only the columns we think are important for our case study.\n"
     ]
    }
   ],
   "source": [
    "# Coded originally found at https://stackoverflow.com/questions/69537383/how-to-plot-count-of-null-values-for-each-column-in-pandas-dataframe\n",
    "def plot_nas(df: pd.DataFrame):\n",
    "    if df.isnull().sum().sum() != 0:\n",
    "        na_df = (df.isnull().sum() / len(df)) * 100\n",
    "        df = df.drop(na_df[na_df > 75].index, axis=1) # Drop columns full of NA values\n",
    "        # na_df = na_df.drop(na_df[na_df > 99].index).sort_values(ascending=False)\n",
    "        # missing_data = pd.DataFrame({'Missing Ratio %' :na_df})\n",
    "        # missing_data.plot(kind = \"barh\")\n",
    "        # plt.show()\n",
    "        return df\n",
    "    else:\n",
    "        print('No NAs found')\n",
    "\n",
    "def plot_nas_nulls(df: pd.DataFrame):\n",
    "    if df.isnull().sum().sum() != 0:\n",
    "        na_df = (df.isnull().sum() / len(df)) * 100\n",
    "        na_df = na_df.drop(na_df[na_df < 3].index).sort_values(ascending=False)\n",
    "        missing_data = pd.DataFrame({'Missing Ratio %' :na_df})\n",
    "        missing_data.plot(kind = \"barh\")\n",
    "        plt.show()\n",
    "        return df\n",
    "    else:\n",
    "        print('No NAs found')\n",
    "\n",
    "print('First approach to null values.')\n",
    "plot_nas_nulls(houses)\n",
    "\n",
    "print(\"We're deleting only full null columns, then we're selecting only the columns we think are important for our case study.\")\n",
    "plot_width, plot_height = (30,60)\n",
    "cleaning_houses_df = plot_nas(houses)"
   ]
  },
  {
   "cell_type": "code",
   "execution_count": 39,
   "metadata": {},
   "outputs": [
    {
     "name": "stdout",
     "output_type": "stream",
     "text": [
      "(21742, 40)\n"
     ]
    },
    {
     "name": "stderr",
     "output_type": "stream",
     "text": [
      "/var/folders/_1/_rnshwnd0px1m82vsfm_3cg80000gn/T/ipykernel_77663/3844517858.py:4: FutureWarning: DataFrame.applymap has been deprecated. Use DataFrame.map instead.\n",
      "  cleaning_houses_df = cleaning_houses_df.applymap(lambda x: 1 if x == True else x)\n",
      "/var/folders/_1/_rnshwnd0px1m82vsfm_3cg80000gn/T/ipykernel_77663/3844517858.py:5: FutureWarning: DataFrame.applymap has been deprecated. Use DataFrame.map instead.\n",
      "  cleaning_houses_df = cleaning_houses_df.applymap(lambda x: 0 if x == False else x)\n"
     ]
    }
   ],
   "source": [
    "# cleaning_houses_df['zip_code'] = cleaning_houses_df['zip_code'].astype(int)\n",
    "cleaning_houses_df.drop('title', axis=1, inplace=True)\n",
    "cleaning_houses_df.drop('is_exact_address_hidden', axis=1, inplace=True)\n",
    "cleaning_houses_df = cleaning_houses_df.applymap(lambda x: 1 if x == True else x)\n",
    "cleaning_houses_df = cleaning_houses_df.applymap(lambda x: 0 if x == False else x)\n",
    "print(cleaning_houses_df.shape)"
   ]
  },
  {
   "cell_type": "code",
   "execution_count": 40,
   "metadata": {},
   "outputs": [
    {
     "name": "stdout",
     "output_type": "stream",
     "text": [
      "Index(['Unnamed: 0', 'id', 'subtitle', 'sq_mt_built', 'sq_mt_useful',\n",
      "       'n_rooms', 'n_bathrooms', 'raw_address', 'street_name', 'street_number',\n",
      "       'floor', 'is_floor_under', 'neighborhood_id', 'operation', 'rent_price',\n",
      "       'is_rent_price_known', 'buy_price', 'buy_price_by_area',\n",
      "       'is_buy_price_known', 'house_type_id', 'is_renewal_needed',\n",
      "       'is_new_development', 'built_year', 'has_central_heating',\n",
      "       'has_individual_heating', 'has_ac', 'has_fitted_wardrobes', 'has_lift',\n",
      "       'is_exterior', 'has_terrace', 'has_storage_room', 'energy_certificate',\n",
      "       'has_parking', 'is_parking_included_in_price', 'parking_price',\n",
      "       'is_orientation_north', 'is_orientation_west', 'is_orientation_south',\n",
      "       'is_orientation_east', 'full_title'],\n",
      "      dtype='object')\n"
     ]
    }
   ],
   "source": [
    "# Current columns\n",
    "print(cleaning_houses_df.columns)"
   ]
  },
  {
   "attachments": {},
   "cell_type": "markdown",
   "metadata": {},
   "source": [
    "We're droping some of the columns we found here based on the idea we want to analyze."
   ]
  },
  {
   "cell_type": "code",
   "execution_count": 42,
   "metadata": {},
   "outputs": [
    {
     "data": {
      "text/html": [
       "<div>\n",
       "<style scoped>\n",
       "    .dataframe tbody tr th:only-of-type {\n",
       "        vertical-align: middle;\n",
       "    }\n",
       "\n",
       "    .dataframe tbody tr th {\n",
       "        vertical-align: top;\n",
       "    }\n",
       "\n",
       "    .dataframe thead th {\n",
       "        text-align: right;\n",
       "    }\n",
       "</style>\n",
       "<table border=\"1\" class=\"dataframe\">\n",
       "  <thead>\n",
       "    <tr style=\"text-align: right;\">\n",
       "      <th></th>\n",
       "      <th>subtitle</th>\n",
       "      <th>sq_mt_built</th>\n",
       "      <th>n_rooms</th>\n",
       "      <th>n_bathrooms</th>\n",
       "      <th>floor</th>\n",
       "      <th>buy_price</th>\n",
       "      <th>has_lift</th>\n",
       "      <th>is_exterior</th>\n",
       "      <th>has_terrace</th>\n",
       "      <th>has_parking</th>\n",
       "      <th>full_title</th>\n",
       "    </tr>\n",
       "  </thead>\n",
       "  <tbody>\n",
       "    <tr>\n",
       "      <th>0</th>\n",
       "      <td>San Cristóbal</td>\n",
       "      <td>64.0</td>\n",
       "      <td>2</td>\n",
       "      <td>1.0</td>\n",
       "      <td>3</td>\n",
       "      <td>85000</td>\n",
       "      <td>0.0</td>\n",
       "      <td>1.0</td>\n",
       "      <td>NaN</td>\n",
       "      <td>0</td>\n",
       "      <td>calle de Godella, 64, San Cristóbal, Madrid</td>\n",
       "    </tr>\n",
       "    <tr>\n",
       "      <th>1</th>\n",
       "      <td>Los Ángeles</td>\n",
       "      <td>70.0</td>\n",
       "      <td>3</td>\n",
       "      <td>1.0</td>\n",
       "      <td>4</td>\n",
       "      <td>129900</td>\n",
       "      <td>1.0</td>\n",
       "      <td>1.0</td>\n",
       "      <td>1.0</td>\n",
       "      <td>0</td>\n",
       "      <td>calle de la del Manojo de Rosas, Los Ángeles, ...</td>\n",
       "    </tr>\n",
       "    <tr>\n",
       "      <th>2</th>\n",
       "      <td>San Andrés</td>\n",
       "      <td>94.0</td>\n",
       "      <td>2</td>\n",
       "      <td>2.0</td>\n",
       "      <td>1</td>\n",
       "      <td>144247</td>\n",
       "      <td>1.0</td>\n",
       "      <td>1.0</td>\n",
       "      <td>NaN</td>\n",
       "      <td>0</td>\n",
       "      <td>calle del Talco, 68, San Andrés, Madrid</td>\n",
       "    </tr>\n",
       "    <tr>\n",
       "      <th>3</th>\n",
       "      <td>San Andrés</td>\n",
       "      <td>64.0</td>\n",
       "      <td>2</td>\n",
       "      <td>1.0</td>\n",
       "      <td>Bajo</td>\n",
       "      <td>109900</td>\n",
       "      <td>1.0</td>\n",
       "      <td>1.0</td>\n",
       "      <td>NaN</td>\n",
       "      <td>0</td>\n",
       "      <td>calle Pedro Jiménez, San Andrés, Madrid</td>\n",
       "    </tr>\n",
       "    <tr>\n",
       "      <th>4</th>\n",
       "      <td>Los Rosales</td>\n",
       "      <td>108.0</td>\n",
       "      <td>2</td>\n",
       "      <td>2.0</td>\n",
       "      <td>4</td>\n",
       "      <td>260000</td>\n",
       "      <td>1.0</td>\n",
       "      <td>1.0</td>\n",
       "      <td>NaN</td>\n",
       "      <td>1</td>\n",
       "      <td>carretera de Villaverde a Vallecas, Los Rosale...</td>\n",
       "    </tr>\n",
       "  </tbody>\n",
       "</table>\n",
       "</div>"
      ],
      "text/plain": [
       "        subtitle  sq_mt_built  n_rooms  n_bathrooms floor  buy_price  \\\n",
       "0  San Cristóbal         64.0        2          1.0     3      85000   \n",
       "1    Los Ángeles         70.0        3          1.0     4     129900   \n",
       "2     San Andrés         94.0        2          2.0     1     144247   \n",
       "3     San Andrés         64.0        2          1.0  Bajo     109900   \n",
       "4    Los Rosales        108.0        2          2.0     4     260000   \n",
       "\n",
       "   has_lift  is_exterior  has_terrace  has_parking  \\\n",
       "0       0.0          1.0          NaN            0   \n",
       "1       1.0          1.0          1.0            0   \n",
       "2       1.0          1.0          NaN            0   \n",
       "3       1.0          1.0          NaN            0   \n",
       "4       1.0          1.0          NaN            1   \n",
       "\n",
       "                                          full_title  \n",
       "0        calle de Godella, 64, San Cristóbal, Madrid  \n",
       "1  calle de la del Manojo de Rosas, Los Ángeles, ...  \n",
       "2            calle del Talco, 68, San Andrés, Madrid  \n",
       "3            calle Pedro Jiménez, San Andrés, Madrid  \n",
       "4  carretera de Villaverde a Vallecas, Los Rosale...  "
      ]
     },
     "execution_count": 42,
     "metadata": {},
     "output_type": "execute_result"
    }
   ],
   "source": [
    "final_selection_list = [\n",
    "    'subtitle', 'sq_mt_built', 'n_rooms',\n",
    "    'n_bathrooms', 'floor', 'buy_price', 'has_lift',\n",
    "    'is_exterior', 'has_terrace',\n",
    "    'has_parking', 'full_title'\n",
    "]\n",
    "clean_houses_df = cleaning_houses_df[final_selection_list]\n",
    "clean_houses_df.head()"
   ]
  },
  {
   "cell_type": "code",
   "execution_count": 44,
   "metadata": {},
   "outputs": [
    {
     "name": "stdout",
     "output_type": "stream",
     "text": [
      "(21742, 11)\n"
     ]
    }
   ],
   "source": [
    "print(clean_houses_df.shape)\n",
    "clean_houses_df.to_csv('/Users/luisgarciafresno/pra_ii/datasets/analyzed_data/houses_dataset_after_cleaning.csv')"
   ]
  },
  {
   "attachments": {},
   "cell_type": "markdown",
   "metadata": {},
   "source": [
    "Esta primera limpieza se ha basado, principalmente, en la eliminación de columnas que no eran de nuestro interés, así como otras columnas con un gran número de valores nulos que no aportaban información al conjunto global de los datos, funcionando casi como un valor constante (en este caso nulo). Se explicará en detalle en la memoria de la práctica. Posteriormente se continuará con el análisis del resto de valores nulos así como los valores extremos para, finalmente, realizar un estudio estadístico del conjunto de datos."
   ]
  }
 ],
 "metadata": {
  "kernelspec": {
   "display_name": ".venv",
   "language": "python",
   "name": "python3"
  },
  "language_info": {
   "codemirror_mode": {
    "name": "ipython",
    "version": 3
   },
   "file_extension": ".py",
   "mimetype": "text/x-python",
   "name": "python",
   "nbconvert_exporter": "python",
   "pygments_lexer": "ipython3",
   "version": "3.12.6"
  },
  "orig_nbformat": 4
 },
 "nbformat": 4,
 "nbformat_minor": 2
}
