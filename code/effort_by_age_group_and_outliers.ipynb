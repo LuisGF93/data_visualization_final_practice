{
 "cells": [
  {
   "cell_type": "code",
   "execution_count": 1,
   "metadata": {},
   "outputs": [],
   "source": [
    "import pandas as pd\n",
    "import matplotlib.pyplot as plt"
   ]
  },
  {
   "cell_type": "markdown",
   "metadata": {},
   "source": [
    "Se han calculado los salarios medios netos a partir de los datos obtenidos en https://gestiona.comunidad.madrid/desvan/AccionListadoTematicoDesvan.icm?temaPadre=432&esTema=S&descripcionPadre=Salario%20medio%20anual%20por%20grupos%20de%20edad.%20Espa%F1oles&codTema=1902636. Los salarios utilizados son los de 2022, debido a que se encuentran a medio camino a nivel de inflación entre los datos de coste de vida medios para Madrid (2024) y el dataset de precios de vivienda en Madrid (2020) buscando compensar la falta de sincronización, que puede afectar ligeramente a los resultados si no se tiene en cuenta.\n",
    "\n",
    "Se ha usado la calculadora de IRPF del diario Cinco Días, de El País. Es la calculadora que llevo usando varios años para calcular mi cuota de IRPF y funciona de manera precisa.\n",
    "\n",
    "Se han calculado los salarios y se han definido como constantes."
   ]
  },
  {
   "cell_type": "code",
   "execution_count": 2,
   "metadata": {},
   "outputs": [],
   "source": [
    "MONTHLY_SALARY_AT_26_35 = 1680\n",
    "MONTHLY_SALARY_AT_36_45 = 2162\n",
    "MONTHLY_SALARY_AT_46_55 = 2472\n",
    "MONTHLY_SALARY_AT_56_65 = 2329"
   ]
  },
  {
   "cell_type": "code",
   "execution_count": 3,
   "metadata": {},
   "outputs": [],
   "source": [
    "MEAN_COST_OF_RENT_1_BEDROOM = 1162.5\n",
    "MEAN_COST_OF_RENT_3_BEDROOM = 1905.5\n"
   ]
  },
  {
   "cell_type": "markdown",
   "metadata": {},
   "source": [
    "Se definen los grupos a analizar:\n",
    "- El grupo 1, es decir, personas hasta 36 años, no tienen ahorros y todavía no tienen hijos. Por facilitar la historia, en este grupo todos están alquilados.\n",
    "- Para el grupo 2 asumimos una familia que compra un piso, con 2 hijos de media y con cierto nivel de ahorros, teniendo en cuenta que tienen hijos en torno a los 35 años y han podido ahorrar durante 10 años (desde los 25).\n",
    "- Para el grupo 3 asumimos una familia de 2 hijos que ya tiene una vivienda que paga mediante una hipoteca y quiere adquirir otra. Es difícil acceder a los datos de hipotecas pasadas, pero lo normal hasta ahora es que las letras fuesen inferiores al alquiler medio, por lo que vamos a establecer una cuota de 1100 euros como gasto extra para este grupo. Se ha fijado una cuota por debajo del alquiler pensando en pisos que se compraron antes de la crisis del 2008, pero no necesariamente dentro de los años de la carrera alcista provocada por la burbuja inmobiliaria. El metro cuadrado se pagaba a principios de 2006 a unos 3.500 € de media (fuente: Idealista), por lo que un piso de 90 metros cuadrados con 3 habitaciones podría costar en torno a unos 315.000 €. Asumiendo unos 100.000 € de entrada, con unos tipos que oscilaban entre el 4 y el 5%, es decir, promediando al 4.5%, se queda una hipoteca de 1200 € aproximadamente. No obstante, como los precios sufrieron una escalada entre 2005 y 2008, se descuenta un pequeño porcentaje para compensar algunas hipotecas firmadas antes de ese periodo a un precio más razonable.\n",
    "- Para el grupo 4 nos basamos en familias que ya tienen hijos mayores de 25 años, posiblemente independizados, y que ya han pagado su casa. Los costes, por tanto, serán para 2 personas, como para el grupo 1, pero sin el gasto del alquiler o la hipoteca que tienen el resto de grupos."
   ]
  },
  {
   "cell_type": "code",
   "execution_count": 4,
   "metadata": {},
   "outputs": [],
   "source": [
    "PENDING_MORTGAGE_COST = 1100\n",
    "MEAN_COST_WITHOUT_RENT_INDIVIDUAL = 788\n",
    "MEAN_COST_WITHOUT_RENT_PER_FAMILY = 2768"
   ]
  },
  {
   "cell_type": "markdown",
   "metadata": {},
   "source": [
    "Por tanto, generamos los costes mensuales por grupo"
   ]
  },
  {
   "cell_type": "code",
   "execution_count": 5,
   "metadata": {},
   "outputs": [],
   "source": [
    "GROUP_26_35_TOTAL_COSTS = MEAN_COST_OF_RENT_1_BEDROOM + 2*MEAN_COST_WITHOUT_RENT_INDIVIDUAL\n",
    "GROUP_36_45_TOTAL_COSTS = MEAN_COST_OF_RENT_1_BEDROOM + MEAN_COST_WITHOUT_RENT_PER_FAMILY\n",
    "GROUP_46_55_TOTAL_COSTS = PENDING_MORTGAGE_COST + MEAN_COST_WITHOUT_RENT_PER_FAMILY\n",
    "GROUP_56_65_TOTAL_COSTS = 2*MEAN_COST_WITHOUT_RENT_INDIVIDUAL"
   ]
  },
  {
   "cell_type": "code",
   "execution_count": 6,
   "metadata": {},
   "outputs": [
    {
     "name": "stdout",
     "output_type": "stream",
     "text": [
      "Cost of living for people between 26 and 35: 2738.5\n",
      "Cost of living for people between 36 and 45: 3930.5\n",
      "Cost of living for people between 46 and 55: 3868\n",
      "Cost of living for people between 56 and 65: 1576\n"
     ]
    }
   ],
   "source": [
    "print(f'Cost of living for people between 26 and 35: {GROUP_26_35_TOTAL_COSTS}')\n",
    "print(f'Cost of living for people between 36 and 45: {GROUP_36_45_TOTAL_COSTS}')\n",
    "print(f'Cost of living for people between 46 and 55: {GROUP_46_55_TOTAL_COSTS}')\n",
    "print(f'Cost of living for people between 56 and 65: {GROUP_56_65_TOTAL_COSTS}')"
   ]
  },
  {
   "cell_type": "code",
   "execution_count": 7,
   "metadata": {},
   "outputs": [],
   "source": [
    "GROUP_26_35_MONTHLY_SAVINGS = 2*MONTHLY_SALARY_AT_26_35 - GROUP_26_35_TOTAL_COSTS\n",
    "GROUP_36_45_MONTHLY_SAVINGS = 2*MONTHLY_SALARY_AT_36_45 - GROUP_36_45_TOTAL_COSTS\n",
    "GROUP_46_55_MONTHLY_SAVINGS = 2*MONTHLY_SALARY_AT_46_55 - GROUP_46_55_TOTAL_COSTS\n",
    "GROUP_56_65_MONTHLY_SAVINGS = 2*MONTHLY_SALARY_AT_56_65 - GROUP_56_65_TOTAL_COSTS"
   ]
  },
  {
   "cell_type": "code",
   "execution_count": 8,
   "metadata": {},
   "outputs": [
    {
     "name": "stdout",
     "output_type": "stream",
     "text": [
      "Monthly savings for people between 26 and 35: 621.5\n",
      "Monthly savings for people between 36 and 45: 393.5\n",
      "Monthly savings for people between 46 and 55: 1076\n",
      "Monthly savings for people between 56 and 65: 3082\n"
     ]
    }
   ],
   "source": [
    "print(f'Monthly savings for people between 26 and 35: {GROUP_26_35_MONTHLY_SAVINGS}')\n",
    "print(f'Monthly savings for people between 36 and 45: {GROUP_36_45_MONTHLY_SAVINGS}')\n",
    "print(f'Monthly savings for people between 46 and 55: {GROUP_46_55_MONTHLY_SAVINGS}')\n",
    "print(f'Monthly savings for people between 56 and 65: {GROUP_56_65_MONTHLY_SAVINGS}')"
   ]
  },
  {
   "cell_type": "markdown",
   "metadata": {},
   "source": [
    "Se generan los esfuerzos para cada grupo"
   ]
  },
  {
   "cell_type": "code",
   "execution_count": 22,
   "metadata": {},
   "outputs": [],
   "source": [
    "data = pd.read_csv('/Users/luisgarciafresno/pra_ii/datasets/analyzed_data/clean_after_null.csv')\n",
    "data[\"years_of_saving_for_26_35\"] = (data[\"buy_price\"]*0.3 + 0.06*data['buy_price'] + 2700) / (GROUP_26_35_MONTHLY_SAVINGS*12)\n",
    "data[\"years_of_saving_for_36_45\"] = (data[\"buy_price\"]*0.3 + 0.06*data['buy_price'] + 2700) / (GROUP_36_45_MONTHLY_SAVINGS*12)\n",
    "data[\"years_of_saving_for_46_55\"] = (data[\"buy_price\"]*0.3 + 0.06*data['buy_price'] + 2700) / (GROUP_46_55_MONTHLY_SAVINGS*12)\n",
    "data[\"years_of_saving_for_56_65\"] = (data[\"buy_price\"]*0.3 + 0.06*data['buy_price'] + 2700) / (GROUP_56_65_MONTHLY_SAVINGS*12)\n"
   ]
  },
  {
   "cell_type": "code",
   "execution_count": 23,
   "metadata": {},
   "outputs": [
    {
     "data": {
      "text/html": [
       "<div>\n",
       "<style scoped>\n",
       "    .dataframe tbody tr th:only-of-type {\n",
       "        vertical-align: middle;\n",
       "    }\n",
       "\n",
       "    .dataframe tbody tr th {\n",
       "        vertical-align: top;\n",
       "    }\n",
       "\n",
       "    .dataframe thead th {\n",
       "        text-align: right;\n",
       "    }\n",
       "</style>\n",
       "<table border=\"1\" class=\"dataframe\">\n",
       "  <thead>\n",
       "    <tr style=\"text-align: right;\">\n",
       "      <th></th>\n",
       "      <th>buy_price</th>\n",
       "      <th>years_of_saving_for_26_35</th>\n",
       "      <th>years_of_saving_for_36_45</th>\n",
       "      <th>years_of_saving_for_46_55</th>\n",
       "      <th>years_of_saving_for_56_65</th>\n",
       "    </tr>\n",
       "  </thead>\n",
       "  <tbody>\n",
       "    <tr>\n",
       "      <th>0</th>\n",
       "      <td>85000</td>\n",
       "      <td>4.465004</td>\n",
       "      <td>7.052097</td>\n",
       "      <td>2.578996</td>\n",
       "      <td>0.900389</td>\n",
       "    </tr>\n",
       "    <tr>\n",
       "      <th>1</th>\n",
       "      <td>129900</td>\n",
       "      <td>6.632341</td>\n",
       "      <td>10.475222</td>\n",
       "      <td>3.830855</td>\n",
       "      <td>1.337443</td>\n",
       "    </tr>\n",
       "    <tr>\n",
       "      <th>2</th>\n",
       "      <td>144247</td>\n",
       "      <td>7.324875</td>\n",
       "      <td>11.569022</td>\n",
       "      <td>4.230864</td>\n",
       "      <td>1.477096</td>\n",
       "    </tr>\n",
       "    <tr>\n",
       "      <th>3</th>\n",
       "      <td>109900</td>\n",
       "      <td>5.666935</td>\n",
       "      <td>8.950445</td>\n",
       "      <td>3.273234</td>\n",
       "      <td>1.142764</td>\n",
       "    </tr>\n",
       "    <tr>\n",
       "      <th>4</th>\n",
       "      <td>260000</td>\n",
       "      <td>12.912309</td>\n",
       "      <td>20.393901</td>\n",
       "      <td>7.458178</td>\n",
       "      <td>2.603829</td>\n",
       "    </tr>\n",
       "    <tr>\n",
       "      <th>...</th>\n",
       "      <td>...</td>\n",
       "      <td>...</td>\n",
       "      <td>...</td>\n",
       "      <td>...</td>\n",
       "      <td>...</td>\n",
       "    </tr>\n",
       "    <tr>\n",
       "      <th>18086</th>\n",
       "      <td>360000</td>\n",
       "      <td>17.739340</td>\n",
       "      <td>28.017789</td>\n",
       "      <td>10.246283</td>\n",
       "      <td>3.577223</td>\n",
       "    </tr>\n",
       "    <tr>\n",
       "      <th>18087</th>\n",
       "      <td>349000</td>\n",
       "      <td>17.208367</td>\n",
       "      <td>27.179161</td>\n",
       "      <td>9.939591</td>\n",
       "      <td>3.470149</td>\n",
       "    </tr>\n",
       "    <tr>\n",
       "      <th>18088</th>\n",
       "      <td>350000</td>\n",
       "      <td>17.256637</td>\n",
       "      <td>27.255400</td>\n",
       "      <td>9.967472</td>\n",
       "      <td>3.479883</td>\n",
       "    </tr>\n",
       "    <tr>\n",
       "      <th>18089</th>\n",
       "      <td>425000</td>\n",
       "      <td>20.876911</td>\n",
       "      <td>32.973316</td>\n",
       "      <td>12.058550</td>\n",
       "      <td>4.209929</td>\n",
       "    </tr>\n",
       "    <tr>\n",
       "      <th>18090</th>\n",
       "      <td>680000</td>\n",
       "      <td>33.185841</td>\n",
       "      <td>52.414231</td>\n",
       "      <td>19.168216</td>\n",
       "      <td>6.692083</td>\n",
       "    </tr>\n",
       "  </tbody>\n",
       "</table>\n",
       "<p>18091 rows × 5 columns</p>\n",
       "</div>"
      ],
      "text/plain": [
       "       buy_price  years_of_saving_for_26_35  years_of_saving_for_36_45  \\\n",
       "0          85000                   4.465004                   7.052097   \n",
       "1         129900                   6.632341                  10.475222   \n",
       "2         144247                   7.324875                  11.569022   \n",
       "3         109900                   5.666935                   8.950445   \n",
       "4         260000                  12.912309                  20.393901   \n",
       "...          ...                        ...                        ...   \n",
       "18086     360000                  17.739340                  28.017789   \n",
       "18087     349000                  17.208367                  27.179161   \n",
       "18088     350000                  17.256637                  27.255400   \n",
       "18089     425000                  20.876911                  32.973316   \n",
       "18090     680000                  33.185841                  52.414231   \n",
       "\n",
       "       years_of_saving_for_46_55  years_of_saving_for_56_65  \n",
       "0                       2.578996                   0.900389  \n",
       "1                       3.830855                   1.337443  \n",
       "2                       4.230864                   1.477096  \n",
       "3                       3.273234                   1.142764  \n",
       "4                       7.458178                   2.603829  \n",
       "...                          ...                        ...  \n",
       "18086                  10.246283                   3.577223  \n",
       "18087                   9.939591                   3.470149  \n",
       "18088                   9.967472                   3.479883  \n",
       "18089                  12.058550                   4.209929  \n",
       "18090                  19.168216                   6.692083  \n",
       "\n",
       "[18091 rows x 5 columns]"
      ]
     },
     "execution_count": 23,
     "metadata": {},
     "output_type": "execute_result"
    }
   ],
   "source": [
    "data[['buy_price', 'years_of_saving_for_26_35', 'years_of_saving_for_36_45', 'years_of_saving_for_46_55', 'years_of_saving_for_56_65']]"
   ]
  },
  {
   "cell_type": "code",
   "execution_count": 25,
   "metadata": {},
   "outputs": [],
   "source": [
    "data.drop(\n",
    "    'Unnamed: 0',\n",
    "    axis=1,\n",
    "    inplace=True\n",
    ")"
   ]
  },
  {
   "cell_type": "markdown",
   "metadata": {},
   "source": [
    "Se analizan y eliminan los outliers de la muestra de datos"
   ]
  },
  {
   "cell_type": "code",
   "execution_count": 30,
   "metadata": {},
   "outputs": [
    {
     "name": "stdout",
     "output_type": "stream",
     "text": [
      "Outlier analysis for 'buy_price':\n",
      "Lower bound: -502500.0\n",
      "Upper bound: 1357500.0\n",
      "Number of outliers: 1537\n"
     ]
    }
   ],
   "source": [
    "# Step 1: Calculate Q1, Q3, and IQR\n",
    "Q1 = data[\"buy_price\"].quantile(0.25)\n",
    "Q3 = data[\"buy_price\"].quantile(0.75)\n",
    "IQR = Q3 - Q1\n",
    "\n",
    "# Step 2: Define outlier boundaries\n",
    "lower_bound = Q1 - 1.5 * IQR\n",
    "upper_bound = Q3 + 1.5 * IQR\n",
    "\n",
    "# Step 3: Identify outliers\n",
    "outliers = data[(data[\"buy_price\"] < lower_bound) | (data[\"buy_price\"] > upper_bound)]\n",
    "\n",
    "# Step 4: Print outlier summary\n",
    "print(f\"Outlier analysis for 'buy_price':\")\n",
    "print(f\"Lower bound: {lower_bound}\")\n",
    "print(f\"Upper bound: {upper_bound}\")\n",
    "print(f\"Number of outliers: {len(outliers)}\")\n",
    "\n",
    "# Remove outliers\n",
    "data_no_outliers = data[(data[\"buy_price\"] >= lower_bound) & (data[\"buy_price\"] <= upper_bound)]"
   ]
  },
  {
   "cell_type": "code",
   "execution_count": 31,
   "metadata": {},
   "outputs": [],
   "source": [
    "data_no_outliers.to_csv('/Users/luisgarciafresno/pra_ii/datasets/analyzed_data/final_data_no_outliers.csv')"
   ]
  },
  {
   "cell_type": "code",
   "execution_count": 36,
   "metadata": {},
   "outputs": [],
   "source": [
    "# Filter 1: Conditions for sq_mt_built > 60, n_rooms >= 1, has_lift = 1, is_exterior = 1\n",
    "condition1 = (\n",
    "    (data_no_outliers['n_rooms'] >= 1) &\n",
    "    (data_no_outliers['has_lift'] == 1) &\n",
    "    (data_no_outliers['is_exterior'] == 1) &\n",
    "    (data_no_outliers['sq_mt_built'] > 60)\n",
    ")\n",
    "filtered1 = data_no_outliers[condition1]\n",
    "\n",
    "# Calculate medians for Filter 1\n",
    "medians1 = {\n",
    "    \"buy_price_median\": filtered1['buy_price'].median(),\n",
    "    \"years_of_saving_for_26_35_median\": filtered1['years_of_saving_for_26_35'].median(),\n",
    "    \"years_of_saving_for_36_45_median\": filtered1['years_of_saving_for_36_45'].median(),\n",
    "    \"years_of_saving_for_46_55_median\": filtered1['years_of_saving_for_46_55'].median(),\n",
    "    \"years_of_saving_for_56_65_median\": filtered1['years_of_saving_for_56_65'].median(),\n",
    "}\n",
    "\n",
    "# Filter 2: Conditions for sq_mt_built > 89, n_rooms >= 2, has_lift = 1, is_exterior = 1\n",
    "condition2 = (\n",
    "    (data_no_outliers['n_rooms'] >= 2) &\n",
    "    (data_no_outliers['has_lift'] == 1) &\n",
    "    (data_no_outliers['is_exterior'] == 1) &\n",
    "    (data_no_outliers['sq_mt_built'] > 89)\n",
    ")\n",
    "filtered2 = data_no_outliers[condition2]\n",
    "\n",
    "# Calculate medians for Filter 2\n",
    "medians2 = {\n",
    "    \"buy_price_median\": filtered2['buy_price'].median(),\n",
    "    \"years_of_saving_for_26_35_median\": filtered2['years_of_saving_for_26_35'].median(),\n",
    "    \"years_of_saving_for_36_45_median\": filtered2['years_of_saving_for_36_45'].median(),\n",
    "    \"years_of_saving_for_46_55_median\": filtered2['years_of_saving_for_46_55'].median(),\n",
    "    \"years_of_saving_for_56_65_median\": filtered2['years_of_saving_for_56_65'].median(),\n",
    "}\n",
    "\n",
    "# Create a new dataset with the results\n",
    "results = pd.DataFrame([\n",
    "    {\"filter\": \"sq_mt_built > 60, n_rooms >= 1\", **medians1},\n",
    "    {\"filter\": \"sq_mt_built > 89, n_rooms >= 2\", **medians2},\n",
    "])\n",
    "\n",
    "# Save the results\n",
    "output_path = '/Users/luisgarciafresno/pra_ii/datasets/analyzed_data/filtered_median_data.csv'\n",
    "results.to_csv(output_path, index=False)"
   ]
  },
  {
   "cell_type": "code",
   "execution_count": 37,
   "metadata": {},
   "outputs": [
    {
     "data": {
      "text/html": [
       "<div>\n",
       "<style scoped>\n",
       "    .dataframe tbody tr th:only-of-type {\n",
       "        vertical-align: middle;\n",
       "    }\n",
       "\n",
       "    .dataframe tbody tr th {\n",
       "        vertical-align: top;\n",
       "    }\n",
       "\n",
       "    .dataframe thead th {\n",
       "        text-align: right;\n",
       "    }\n",
       "</style>\n",
       "<table border=\"1\" class=\"dataframe\">\n",
       "  <thead>\n",
       "    <tr style=\"text-align: right;\">\n",
       "      <th></th>\n",
       "      <th>filter</th>\n",
       "      <th>buy_price_median</th>\n",
       "      <th>years_of_saving_for_26_35_median</th>\n",
       "      <th>years_of_saving_for_36_45_median</th>\n",
       "      <th>years_of_saving_for_46_55_median</th>\n",
       "      <th>years_of_saving_for_56_65_median</th>\n",
       "    </tr>\n",
       "  </thead>\n",
       "  <tbody>\n",
       "    <tr>\n",
       "      <th>0</th>\n",
       "      <td>sq_mt_built &gt; 60, n_rooms &gt;= 1</td>\n",
       "      <td>463000.0</td>\n",
       "      <td>22.711183</td>\n",
       "      <td>35.870394</td>\n",
       "      <td>13.118030</td>\n",
       "      <td>4.579818</td>\n",
       "    </tr>\n",
       "    <tr>\n",
       "      <th>1</th>\n",
       "      <td>sq_mt_built &gt; 89, n_rooms &gt;= 2</td>\n",
       "      <td>564300.0</td>\n",
       "      <td>27.600965</td>\n",
       "      <td>43.593393</td>\n",
       "      <td>15.942379</td>\n",
       "      <td>5.565866</td>\n",
       "    </tr>\n",
       "  </tbody>\n",
       "</table>\n",
       "</div>"
      ],
      "text/plain": [
       "                           filter  buy_price_median  \\\n",
       "0  sq_mt_built > 60, n_rooms >= 1          463000.0   \n",
       "1  sq_mt_built > 89, n_rooms >= 2          564300.0   \n",
       "\n",
       "   years_of_saving_for_26_35_median  years_of_saving_for_36_45_median  \\\n",
       "0                         22.711183                         35.870394   \n",
       "1                         27.600965                         43.593393   \n",
       "\n",
       "   years_of_saving_for_46_55_median  years_of_saving_for_56_65_median  \n",
       "0                         13.118030                          4.579818  \n",
       "1                         15.942379                          5.565866  "
      ]
     },
     "execution_count": 37,
     "metadata": {},
     "output_type": "execute_result"
    }
   ],
   "source": [
    "results"
   ]
  }
 ],
 "metadata": {
  "kernelspec": {
   "display_name": ".venv",
   "language": "python",
   "name": "python3"
  },
  "language_info": {
   "codemirror_mode": {
    "name": "ipython",
    "version": 3
   },
   "file_extension": ".py",
   "mimetype": "text/x-python",
   "name": "python",
   "nbconvert_exporter": "python",
   "pygments_lexer": "ipython3",
   "version": "3.12.6"
  }
 },
 "nbformat": 4,
 "nbformat_minor": 2
}
