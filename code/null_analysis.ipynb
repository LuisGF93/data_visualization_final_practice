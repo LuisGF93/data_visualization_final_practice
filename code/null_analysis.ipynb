{
 "cells": [
  {
   "cell_type": "code",
   "execution_count": 15,
   "metadata": {},
   "outputs": [],
   "source": [
    "import pandas as pd"
   ]
  },
  {
   "cell_type": "code",
   "execution_count": null,
   "metadata": {},
   "outputs": [],
   "source": [
    "previous_data = '/Users/luisgarciafresno/pra_ii/datasets/analyzed_data/houses_dataset_after_cleaning.csv'\n",
    "prev_df = pd.read_csv(previous_data)\n",
    "target = prev_df['buy_price'] # Repaso\n",
    "prev_df.drop(\n",
    "    ['Unnamed: 0'],\n",
    "    axis=1,\n",
    "    inplace=True\n",
    ")"
   ]
  },
  {
   "attachments": {},
   "cell_type": "markdown",
   "metadata": {},
   "source": [
    "Tras analizar y eliminar en una primera selección aquellas columnas con un porcentaje de valores nulos superior al 75%, se va a realizar un segundo análisis para entender los valores nulos y ver cómo abordar su consiguiente tratamiento. Tras finalizar con el análisis de valores nulos se realizará un análisis de outliers, con vistas a entender qué valores atípicos tenemos en el conjunto de datos y si alguno debe ser eliminado del conjunto de datos."
   ]
  },
  {
   "cell_type": "code",
   "execution_count": 5,
   "metadata": {},
   "outputs": [
    {
     "name": "stdout",
     "output_type": "stream",
     "text": [
      "sq_mt_built\n",
      "{np.float64(13.0), np.float64(15.0), np.float64(16.0), np.float64(18.0), np.float64(19.0), np.float64(20.0), np.float64(21.0), np.float64(22.0), np.float64(23.0), np.float64(24.0), np.float64(25.0), np.float64(26.0), np.float64(27.0), np.float64(28.0), np.float64(29.0), np.float64(30.0), np.float64(31.0), np.float64(32.0), np.float64(33.0), np.float64(34.0), np.float64(35.0), np.float64(36.0), np.float64(37.0), np.float64(38.0), np.float64(39.0), np.float64(40.0), np.float64(41.0), np.float64(42.0), np.float64(43.0), np.float64(44.0), np.float64(45.0), np.float64(46.0), np.float64(47.0), np.float64(48.0), np.float64(49.0), np.float64(50.0), np.float64(51.0), np.float64(52.0), np.float64(53.0), np.float64(54.0), np.float64(55.0), np.float64(56.0), np.float64(57.0), np.float64(58.0), np.float64(59.0), np.float64(60.0), np.float64(61.0), np.float64(62.0), np.float64(63.0), np.float64(64.0), np.float64(65.0), np.float64(66.0), np.float64(67.0), np.float64(68.0), np.float64(69.0), np.float64(70.0), np.float64(71.0), np.float64(72.0), np.float64(73.0), np.float64(74.0), np.float64(75.0), np.float64(76.0), np.float64(77.0), np.float64(78.0), np.float64(79.0), np.float64(80.0), np.float64(81.0), np.float64(82.0), np.float64(83.0), np.float64(84.0), np.float64(85.0), np.float64(86.0), np.float64(87.0), np.float64(88.0), np.float64(89.0), np.float64(90.0), np.float64(91.0), np.float64(92.0), np.float64(93.0), np.float64(94.0), np.float64(95.0), np.float64(96.0), np.float64(97.0), np.float64(98.0), np.float64(99.0), np.float64(100.0), np.float64(101.0), np.float64(102.0), np.float64(103.0), np.float64(104.0), np.float64(105.0), np.float64(106.0), np.float64(107.0), np.float64(108.0), np.float64(109.0), np.float64(110.0), np.float64(111.0), np.float64(112.0), np.float64(113.0), np.float64(114.0), np.float64(115.0), np.float64(116.0), np.float64(117.0), np.float64(118.0), np.float64(119.0), np.float64(120.0), np.float64(121.0), np.float64(122.0), np.float64(123.0), np.float64(124.0), np.float64(125.0), np.float64(126.0), np.float64(127.0), np.float64(128.0), np.float64(129.0), np.float64(130.0), np.float64(131.0), np.float64(132.0), np.float64(133.0), np.float64(134.0), np.float64(135.0), np.float64(136.0), np.float64(137.0), np.float64(138.0), np.float64(139.0), np.float64(140.0), np.float64(141.0), np.float64(142.0), np.float64(143.0), np.float64(144.0), np.float64(145.0), np.float64(146.0), np.float64(147.0), np.float64(148.0), np.float64(149.0), np.float64(150.0), np.float64(151.0), np.float64(152.0), np.float64(153.0), np.float64(154.0), np.float64(155.0), np.float64(156.0), np.float64(157.0), np.float64(158.0), np.float64(159.0), np.float64(160.0), np.float64(161.0), np.float64(162.0), np.float64(163.0), np.float64(164.0), np.float64(165.0), np.float64(166.0), np.float64(167.0), np.float64(168.0), np.float64(169.0), np.float64(170.0), np.float64(171.0), np.float64(172.0), np.float64(173.0), np.float64(174.0), np.float64(175.0), np.float64(176.0), np.float64(177.0), np.float64(178.0), np.float64(179.0), np.float64(180.0), np.float64(181.0), np.float64(182.0), np.float64(183.0), np.float64(184.0), np.float64(185.0), np.float64(186.0), np.float64(187.0), np.float64(188.0), np.float64(189.0), np.float64(190.0), np.float64(191.0), np.float64(192.0), np.float64(193.0), np.float64(194.0), np.float64(195.0), np.float64(196.0), np.float64(197.0), np.float64(198.0), np.float64(199.0), np.float64(200.0), np.float64(201.0), np.float64(202.0), np.float64(203.0), np.float64(204.0), np.float64(205.0), np.float64(206.0), np.float64(207.0), np.float64(208.0), np.float64(209.0), np.float64(210.0), np.float64(211.0), np.float64(212.0), np.float64(213.0), np.float64(214.0), np.float64(215.0), np.float64(216.0), np.float64(217.0), np.float64(218.0), np.float64(219.0), np.float64(220.0), np.float64(221.0), np.float64(222.0), np.float64(223.0), np.float64(224.0), np.float64(225.0), np.float64(226.0), np.float64(227.0), np.float64(228.0), np.float64(229.0), np.float64(230.0), np.float64(231.0), np.float64(232.0), np.float64(233.0), np.float64(234.0), np.float64(235.0), np.float64(236.0), np.float64(237.0), np.float64(238.0), np.float64(239.0), np.float64(240.0), np.float64(241.0), np.float64(242.0), np.float64(243.0), np.float64(244.0), np.float64(245.0), np.float64(246.0), np.float64(247.0), np.float64(248.0), np.float64(249.0), np.float64(250.0), np.float64(251.0), np.float64(252.0), np.float64(253.0), np.float64(254.0), np.float64(255.0), np.float64(256.0), np.float64(257.0), np.float64(258.0), np.float64(259.0), np.float64(260.0), np.float64(261.0), np.float64(262.0), np.float64(263.0), np.float64(264.0), np.float64(265.0), np.float64(266.0), np.float64(267.0), np.float64(268.0), np.float64(269.0), np.float64(270.0), np.float64(271.0), np.float64(272.0), np.float64(273.0), np.float64(274.0), np.float64(275.0), np.float64(276.0), np.float64(277.0), np.float64(278.0), np.float64(279.0), np.float64(280.0), np.float64(281.0), np.float64(282.0), np.float64(283.0), np.float64(284.0), np.float64(285.0), np.float64(286.0), np.float64(287.0), np.float64(288.0), np.float64(289.0), np.float64(290.0), np.float64(291.0), np.float64(292.0), np.float64(293.0), np.float64(294.0), np.float64(295.0), np.float64(296.0), np.float64(297.0), np.float64(298.0), np.float64(299.0), np.float64(300.0), np.float64(301.0), np.float64(302.0), np.float64(303.0), np.float64(304.0), np.float64(305.0), np.float64(306.0), np.float64(307.0), np.float64(308.0), np.float64(309.0), np.float64(310.0), np.float64(311.0), np.float64(312.0), np.float64(313.0), np.float64(314.0), np.float64(315.0), np.float64(316.0), np.float64(317.0), np.float64(318.0), np.float64(319.0), np.float64(320.0), np.float64(321.0), np.float64(322.0), np.float64(323.0), np.float64(324.0), np.float64(325.0), np.float64(326.0), np.float64(327.0), np.float64(328.0), np.float64(329.0), np.float64(330.0), np.float64(331.0), np.float64(332.0), np.float64(333.0), np.float64(334.0), np.float64(335.0), np.float64(336.0), np.float64(337.0), np.float64(338.0), np.float64(339.0), np.float64(340.0), np.float64(341.0), np.float64(342.0), np.float64(343.0), np.float64(344.0), np.float64(345.0), np.float64(346.0), np.float64(347.0), np.float64(348.0), np.float64(349.0), np.float64(350.0), np.float64(351.0), np.float64(352.0), np.float64(353.0), np.float64(354.0), np.float64(355.0), np.float64(356.0), np.float64(357.0), np.float64(358.0), np.float64(359.0), np.float64(360.0), np.float64(361.0), np.float64(362.0), np.float64(363.0), np.float64(364.0), np.float64(365.0), np.float64(366.0), np.float64(367.0), np.float64(368.0), np.float64(369.0), np.float64(370.0), np.float64(371.0), np.float64(372.0), np.float64(373.0), np.float64(374.0), np.float64(375.0), np.float64(376.0), np.float64(377.0), np.float64(378.0), np.float64(379.0), np.float64(380.0), np.float64(381.0), np.float64(382.0), np.float64(383.0), np.float64(384.0), np.float64(385.0), np.float64(386.0), np.float64(387.0), np.float64(388.0), np.float64(389.0), np.float64(390.0), np.float64(391.0), np.float64(392.0), np.float64(393.0), np.float64(394.0), np.float64(395.0), np.float64(396.0), np.float64(397.0), np.float64(398.0), np.float64(399.0), np.float64(400.0), np.float64(401.0), np.float64(402.0), np.float64(403.0), np.float64(404.0), np.float64(405.0), np.float64(406.0), np.float64(407.0), np.float64(408.0), np.float64(409.0), np.float64(410.0), np.float64(411.0), np.float64(412.0), np.float64(413.0), np.float64(414.0), np.float64(415.0), np.float64(416.0), np.float64(417.0), np.float64(418.0), np.float64(419.0), np.float64(420.0), np.float64(422.0), np.float64(423.0), np.float64(424.0), np.float64(425.0), np.float64(426.0), np.float64(427.0), np.float64(428.0), np.float64(429.0), np.float64(430.0), np.float64(431.0), np.float64(432.0), np.float64(433.0), np.float64(434.0), np.float64(435.0), np.float64(437.0), np.float64(438.0), np.float64(439.0), np.float64(440.0), np.float64(441.0), np.float64(442.0), np.float64(443.0), np.float64(444.0), np.float64(445.0), np.float64(446.0), np.float64(447.0), np.float64(448.0), np.float64(449.0), np.float64(450.0), np.float64(452.0), np.float64(453.0), np.float64(455.0), np.float64(456.0), np.float64(459.0), np.float64(460.0), np.float64(461.0), np.float64(462.0), np.float64(463.0), np.float64(464.0), np.float64(465.0), np.float64(466.0), np.float64(467.0), np.float64(468.0), np.float64(469.0), np.float64(470.0), np.float64(471.0), np.float64(472.0), np.float64(474.0), np.float64(475.0), np.float64(476.0), np.float64(477.0), np.float64(478.0), np.float64(480.0), np.float64(481.0), np.float64(483.0), np.float64(484.0), np.float64(485.0), np.float64(486.0), np.float64(487.0), np.float64(488.0), np.float64(489.0), np.float64(491.0), np.float64(493.0), np.float64(495.0), np.float64(496.0), np.float64(499.0), np.float64(500.0), np.float64(501.0), np.float64(502.0), np.float64(503.0), np.float64(504.0), np.float64(505.0), np.float64(508.0), np.float64(509.0), np.float64(510.0), np.float64(511.0), np.float64(512.0), np.float64(513.0), np.float64(514.0), np.float64(515.0), np.float64(516.0), np.float64(517.0), np.float64(518.0), np.float64(519.0), np.float64(520.0), np.float64(521.0), np.float64(522.0), np.float64(524.0), np.float64(527.0), np.float64(528.0), np.float64(529.0), np.float64(530.0), np.float64(533.0), np.float64(534.0), np.float64(536.0), np.float64(537.0), np.float64(540.0), np.float64(541.0), np.float64(544.0), np.float64(545.0), np.float64(547.0), np.float64(548.0), np.float64(549.0), np.float64(550.0), np.float64(551.0), np.float64(552.0), np.float64(553.0), np.float64(554.0), np.float64(557.0), np.float64(558.0), np.float64(560.0), np.float64(561.0), np.float64(562.0), np.float64(565.0), np.float64(570.0), np.float64(571.0), np.float64(573.0), np.float64(574.0), np.float64(575.0), np.float64(576.0), np.float64(578.0), np.float64(580.0), np.float64(583.0), np.float64(584.0), np.float64(585.0), np.float64(587.0), np.float64(590.0), np.float64(592.0), np.float64(593.0), np.float64(595.0), np.float64(596.0), np.float64(598.0), np.float64(600.0), np.float64(601.0), np.float64(602.0), np.float64(603.0), np.float64(604.0), np.float64(606.0), np.float64(607.0), np.float64(611.0), np.float64(613.0), np.float64(615.0), np.float64(618.0), np.float64(619.0), np.float64(620.0), np.float64(623.0), np.float64(624.0), np.float64(625.0), np.float64(626.0), np.float64(628.0), np.float64(629.0), np.float64(630.0), np.float64(634.0), np.float64(635.0), np.float64(636.0), np.float64(640.0), np.float64(643.0), np.float64(644.0), np.float64(645.0), np.float64(650.0), np.float64(651.0), np.float64(652.0), np.float64(653.0), np.float64(654.0), np.float64(657.0), np.float64(660.0), np.float64(661.0), np.float64(662.0), np.float64(664.0), np.float64(665.0), np.float64(666.0), np.float64(670.0), np.float64(672.0), np.float64(674.0), np.float64(675.0), np.float64(677.0), np.float64(680.0), np.float64(682.0), np.float64(685.0), np.float64(690.0), np.float64(691.0), np.float64(696.0), np.float64(698.0), np.float64(700.0), np.float64(701.0), np.float64(702.0), np.float64(703.0), np.float64(705.0), np.float64(706.0), np.float64(707.0), np.float64(710.0), np.float64(714.0), np.float64(720.0), np.float64(722.0), np.float64(723.0), np.float64(724.0), np.float64(727.0), np.float64(728.0), np.float64(730.0), np.float64(734.0), np.float64(737.0), np.float64(740.0), np.float64(742.0), np.float64(743.0), np.float64(744.0), np.float64(747.0), np.float64(750.0), np.float64(751.0), np.float64(752.0), np.float64(753.0), np.float64(755.0), np.float64(758.0), np.float64(760.0), np.float64(761.0), np.float64(764.0), np.float64(770.0), np.float64(774.0), np.float64(775.0), np.float64(776.0), np.float64(780.0), np.float64(788.0), np.float64(789.0), np.float64(793.0), np.float64(800.0), np.float64(802.0), np.float64(803.0), np.float64(814.0), np.float64(819.0), np.float64(825.0), np.float64(830.0), np.float64(835.0), np.float64(840.0), np.float64(844.0), np.float64(845.0), np.float64(847.0), np.float64(848.0), np.float64(849.0), np.float64(850.0), np.float64(852.0), np.float64(855.0), np.float64(856.0), np.float64(860.0), np.float64(875.0), np.float64(879.0), np.float64(881.0), np.float64(885.0), np.float64(887.0), np.float64(890.0), np.float64(894.0), np.float64(899.0), np.float64(900.0), np.float64(901.0), np.float64(911.0), np.float64(918.0), np.float64(920.0), np.float64(930.0), np.float64(937.0), np.float64(939.0), np.float64(950.0), np.float64(955.0), np.float64(960.0), np.float64(963.0), np.float64(978.0), np.float64(980.0), np.float64(982.0), np.float64(984.0), np.float64(985.0), np.float64(986.0), np.float64(989.0), np.float64(990.0), np.float64(992.0), np.float64(998.0), np.float64(999.0), np.float64(nan)}\n",
      "n_bathrooms\n",
      "{np.float64(1.0), np.float64(2.0), np.float64(3.0), np.float64(4.0), np.float64(5.0), np.float64(6.0), np.float64(7.0), np.float64(8.0), np.float64(9.0), np.float64(10.0), np.float64(11.0), np.float64(12.0), np.float64(nan), np.float64(14.0), np.float64(13.0), np.float64(15.0), np.float64(16.0)}\n",
      "floor\n",
      "{'Sótano exterior', 'Entreplanta', '6', 'Semi-sótano exterior', nan, '2', 'Semi-sótano', 'Semi-sótano interior', '8', '3', 'Sótano', 'Bajo', '9', '7', 'Sótano interior', 'Entreplanta interior', '4', '1', '5', 'Entreplanta exterior'}\n",
      "has_lift\n",
      "{np.float64(0.0), np.float64(1.0), np.float64(nan)}\n",
      "is_exterior\n",
      "{np.float64(0.0), np.float64(1.0), np.float64(nan)}\n",
      "has_terrace\n",
      "{np.float64(1.0), np.float64(nan)}\n"
     ]
    }
   ],
   "source": [
    "# First nan analysis\n",
    "columns = prev_df.columns.to_list()\n",
    "for c in columns:\n",
    "    if prev_df[c].isnull().sum() > 0:\n",
    "        print(c)\n",
    "        print(set(prev_df[c].unique()))\n"
   ]
  },
  {
   "cell_type": "code",
   "execution_count": 7,
   "metadata": {},
   "outputs": [],
   "source": [
    "bin_cols = [\n",
    "    'has_terrace'\n",
    "]\n",
    "for c in bin_cols:\n",
    "    prev_df[c] = prev_df[c].fillna(0.0)"
   ]
  },
  {
   "cell_type": "code",
   "execution_count": null,
   "metadata": {},
   "outputs": [
    {
     "name": "stdout",
     "output_type": "stream",
     "text": [
      "n_bathrooms  has 0.07359028608223715 missing values.\n",
      "floor  has 11.990617238524514 missing values.\n",
      "has_lift  has 10.974151412013613 missing values.\n",
      "is_exterior  has 13.995952534265477 missing values.\n"
     ]
    }
   ],
   "source": [
    "bin_with_nan_cols = [\n",
    "    'n_bathrooms', 'floor',\n",
    "    'has_lift', 'is_exterior'\n",
    "]\n",
    "for c in bin_with_nan_cols:\n",
    "    perc = prev_df[c].isnull().sum() / len(prev_df[c]) * 100\n",
    "    print('{}  has {} missing values.'.format(c, perc))"
   ]
  },
  {
   "cell_type": "code",
   "execution_count": null,
   "metadata": {},
   "outputs": [],
   "source": [
    "bin_with_nan_cols = [\n",
    "    'n_bathrooms', 'floor',\n",
    "    'has_lift', 'is_exterior'\n",
    "]\n",
    "prev_df.dropna(subset=bin_with_nan_cols, inplace=True)"
   ]
  },
  {
   "cell_type": "code",
   "execution_count": 10,
   "metadata": {},
   "outputs": [
    {
     "name": "stdout",
     "output_type": "stream",
     "text": [
      "sq_mt_built\n",
      "{np.float64(15.0), np.float64(16.0), np.float64(18.0), np.float64(20.0), np.float64(21.0), np.float64(22.0), np.float64(23.0), np.float64(24.0), np.float64(25.0), np.float64(26.0), np.float64(27.0), np.float64(28.0), np.float64(29.0), np.float64(30.0), np.float64(31.0), np.float64(32.0), np.float64(33.0), np.float64(34.0), np.float64(35.0), np.float64(36.0), np.float64(37.0), np.float64(38.0), np.float64(39.0), np.float64(40.0), np.float64(41.0), np.float64(42.0), np.float64(43.0), np.float64(44.0), np.float64(45.0), np.float64(46.0), np.float64(47.0), np.float64(48.0), np.float64(49.0), np.float64(50.0), np.float64(51.0), np.float64(52.0), np.float64(53.0), np.float64(54.0), np.float64(55.0), np.float64(56.0), np.float64(57.0), np.float64(58.0), np.float64(59.0), np.float64(60.0), np.float64(61.0), np.float64(62.0), np.float64(63.0), np.float64(64.0), np.float64(65.0), np.float64(66.0), np.float64(67.0), np.float64(68.0), np.float64(69.0), np.float64(70.0), np.float64(71.0), np.float64(72.0), np.float64(73.0), np.float64(74.0), np.float64(75.0), np.float64(76.0), np.float64(77.0), np.float64(78.0), np.float64(79.0), np.float64(80.0), np.float64(81.0), np.float64(82.0), np.float64(83.0), np.float64(84.0), np.float64(85.0), np.float64(86.0), np.float64(87.0), np.float64(88.0), np.float64(89.0), np.float64(90.0), np.float64(91.0), np.float64(92.0), np.float64(93.0), np.float64(94.0), np.float64(95.0), np.float64(96.0), np.float64(97.0), np.float64(98.0), np.float64(99.0), np.float64(100.0), np.float64(101.0), np.float64(102.0), np.float64(103.0), np.float64(104.0), np.float64(105.0), np.float64(106.0), np.float64(107.0), np.float64(108.0), np.float64(109.0), np.float64(110.0), np.float64(111.0), np.float64(112.0), np.float64(113.0), np.float64(114.0), np.float64(115.0), np.float64(116.0), np.float64(117.0), np.float64(118.0), np.float64(119.0), np.float64(120.0), np.float64(121.0), np.float64(122.0), np.float64(123.0), np.float64(124.0), np.float64(125.0), np.float64(126.0), np.float64(127.0), np.float64(128.0), np.float64(129.0), np.float64(130.0), np.float64(131.0), np.float64(132.0), np.float64(133.0), np.float64(134.0), np.float64(135.0), np.float64(136.0), np.float64(137.0), np.float64(138.0), np.float64(139.0), np.float64(140.0), np.float64(141.0), np.float64(142.0), np.float64(143.0), np.float64(144.0), np.float64(145.0), np.float64(146.0), np.float64(147.0), np.float64(148.0), np.float64(149.0), np.float64(150.0), np.float64(151.0), np.float64(152.0), np.float64(153.0), np.float64(154.0), np.float64(155.0), np.float64(156.0), np.float64(157.0), np.float64(158.0), np.float64(159.0), np.float64(160.0), np.float64(161.0), np.float64(162.0), np.float64(163.0), np.float64(164.0), np.float64(165.0), np.float64(166.0), np.float64(167.0), np.float64(168.0), np.float64(169.0), np.float64(170.0), np.float64(171.0), np.float64(172.0), np.float64(173.0), np.float64(174.0), np.float64(175.0), np.float64(176.0), np.float64(177.0), np.float64(178.0), np.float64(179.0), np.float64(180.0), np.float64(181.0), np.float64(182.0), np.float64(183.0), np.float64(184.0), np.float64(185.0), np.float64(186.0), np.float64(187.0), np.float64(188.0), np.float64(189.0), np.float64(190.0), np.float64(191.0), np.float64(192.0), np.float64(193.0), np.float64(194.0), np.float64(195.0), np.float64(196.0), np.float64(197.0), np.float64(198.0), np.float64(199.0), np.float64(200.0), np.float64(201.0), np.float64(202.0), np.float64(203.0), np.float64(204.0), np.float64(205.0), np.float64(206.0), np.float64(207.0), np.float64(208.0), np.float64(209.0), np.float64(210.0), np.float64(211.0), np.float64(212.0), np.float64(213.0), np.float64(214.0), np.float64(215.0), np.float64(216.0), np.float64(217.0), np.float64(218.0), np.float64(219.0), np.float64(220.0), np.float64(221.0), np.float64(222.0), np.float64(223.0), np.float64(224.0), np.float64(225.0), np.float64(226.0), np.float64(227.0), np.float64(228.0), np.float64(229.0), np.float64(230.0), np.float64(231.0), np.float64(232.0), np.float64(233.0), np.float64(234.0), np.float64(235.0), np.float64(236.0), np.float64(237.0), np.float64(238.0), np.float64(239.0), np.float64(240.0), np.float64(241.0), np.float64(242.0), np.float64(243.0), np.float64(244.0), np.float64(245.0), np.float64(246.0), np.float64(247.0), np.float64(248.0), np.float64(249.0), np.float64(250.0), np.float64(251.0), np.float64(252.0), np.float64(253.0), np.float64(254.0), np.float64(255.0), np.float64(256.0), np.float64(257.0), np.float64(258.0), np.float64(259.0), np.float64(260.0), np.float64(261.0), np.float64(262.0), np.float64(263.0), np.float64(264.0), np.float64(265.0), np.float64(266.0), np.float64(267.0), np.float64(268.0), np.float64(269.0), np.float64(270.0), np.float64(271.0), np.float64(272.0), np.float64(273.0), np.float64(274.0), np.float64(275.0), np.float64(276.0), np.float64(277.0), np.float64(278.0), np.float64(279.0), np.float64(280.0), np.float64(281.0), np.float64(282.0), np.float64(283.0), np.float64(284.0), np.float64(285.0), np.float64(286.0), np.float64(287.0), np.float64(288.0), np.float64(289.0), np.float64(290.0), np.float64(291.0), np.float64(292.0), np.float64(293.0), np.float64(294.0), np.float64(295.0), np.float64(296.0), np.float64(297.0), np.float64(298.0), np.float64(299.0), np.float64(300.0), np.float64(301.0), np.float64(302.0), np.float64(303.0), np.float64(304.0), np.float64(305.0), np.float64(306.0), np.float64(307.0), np.float64(308.0), np.float64(309.0), np.float64(310.0), np.float64(311.0), np.float64(312.0), np.float64(313.0), np.float64(314.0), np.float64(315.0), np.float64(316.0), np.float64(317.0), np.float64(318.0), np.float64(319.0), np.float64(320.0), np.float64(321.0), np.float64(322.0), np.float64(323.0), np.float64(324.0), np.float64(325.0), np.float64(326.0), np.float64(327.0), np.float64(328.0), np.float64(330.0), np.float64(331.0), np.float64(332.0), np.float64(333.0), np.float64(334.0), np.float64(335.0), np.float64(336.0), np.float64(337.0), np.float64(338.0), np.float64(339.0), np.float64(340.0), np.float64(341.0), np.float64(342.0), np.float64(343.0), np.float64(344.0), np.float64(345.0), np.float64(346.0), np.float64(347.0), np.float64(348.0), np.float64(349.0), np.float64(350.0), np.float64(351.0), np.float64(352.0), np.float64(353.0), np.float64(354.0), np.float64(355.0), np.float64(356.0), np.float64(357.0), np.float64(358.0), np.float64(359.0), np.float64(360.0), np.float64(361.0), np.float64(362.0), np.float64(363.0), np.float64(364.0), np.float64(365.0), np.float64(366.0), np.float64(367.0), np.float64(368.0), np.float64(369.0), np.float64(370.0), np.float64(371.0), np.float64(372.0), np.float64(373.0), np.float64(374.0), np.float64(375.0), np.float64(376.0), np.float64(377.0), np.float64(378.0), np.float64(379.0), np.float64(380.0), np.float64(381.0), np.float64(382.0), np.float64(383.0), np.float64(384.0), np.float64(387.0), np.float64(389.0), np.float64(390.0), np.float64(391.0), np.float64(392.0), np.float64(393.0), np.float64(394.0), np.float64(395.0), np.float64(396.0), np.float64(397.0), np.float64(398.0), np.float64(399.0), np.float64(400.0), np.float64(401.0), np.float64(402.0), np.float64(404.0), np.float64(407.0), np.float64(408.0), np.float64(409.0), np.float64(410.0), np.float64(412.0), np.float64(414.0), np.float64(415.0), np.float64(416.0), np.float64(417.0), np.float64(419.0), np.float64(420.0), np.float64(422.0), np.float64(423.0), np.float64(424.0), np.float64(425.0), np.float64(426.0), np.float64(427.0), np.float64(429.0), np.float64(430.0), np.float64(431.0), np.float64(432.0), np.float64(433.0), np.float64(434.0), np.float64(437.0), np.float64(439.0), np.float64(440.0), np.float64(441.0), np.float64(442.0), np.float64(443.0), np.float64(444.0), np.float64(445.0), np.float64(447.0), np.float64(448.0), np.float64(449.0), np.float64(450.0), np.float64(452.0), np.float64(453.0), np.float64(455.0), np.float64(456.0), np.float64(459.0), np.float64(460.0), np.float64(461.0), np.float64(464.0), np.float64(465.0), np.float64(467.0), np.float64(468.0), np.float64(469.0), np.float64(470.0), np.float64(471.0), np.float64(472.0), np.float64(478.0), np.float64(480.0), np.float64(484.0), np.float64(485.0), np.float64(496.0), np.float64(499.0), np.float64(500.0), np.float64(501.0), np.float64(502.0), np.float64(504.0), np.float64(505.0), np.float64(509.0), np.float64(511.0), np.float64(512.0), np.float64(514.0), np.float64(515.0), np.float64(516.0), np.float64(517.0), np.float64(518.0), np.float64(519.0), np.float64(520.0), np.float64(527.0), np.float64(529.0), np.float64(530.0), np.float64(533.0), np.float64(536.0), np.float64(540.0), np.float64(547.0), np.float64(550.0), np.float64(551.0), np.float64(552.0), np.float64(557.0), np.float64(560.0), np.float64(561.0), np.float64(562.0), np.float64(565.0), np.float64(573.0), np.float64(576.0), np.float64(578.0), np.float64(580.0), np.float64(590.0), np.float64(600.0), np.float64(602.0), np.float64(604.0), np.float64(607.0), np.float64(620.0), np.float64(626.0), np.float64(629.0), np.float64(635.0), np.float64(640.0), np.float64(644.0), np.float64(645.0), np.float64(650.0), np.float64(653.0), np.float64(670.0), np.float64(672.0), np.float64(677.0), np.float64(680.0), np.float64(700.0), np.float64(705.0), np.float64(706.0), np.float64(730.0), np.float64(740.0), np.float64(744.0), np.float64(776.0), np.float64(894.0), np.float64(nan)}\n"
     ]
    }
   ],
   "source": [
    "columns = prev_df.columns.to_list()\n",
    "for c in columns:\n",
    "    if prev_df[c].isnull().sum() > 0:\n",
    "        print(c)\n",
    "        print(set(prev_df[c].unique()))"
   ]
  },
  {
   "cell_type": "code",
   "execution_count": null,
   "metadata": {},
   "outputs": [
    {
     "name": "stderr",
     "output_type": "stream",
     "text": [
      "/var/folders/_1/_rnshwnd0px1m82vsfm_3cg80000gn/T/ipykernel_78065/1768534120.py:17: FutureWarning: A value is trying to be set on a copy of a DataFrame or Series through chained assignment using an inplace method.\n",
      "The behavior will change in pandas 3.0. This inplace method will never work because the intermediate object on which we are setting values always behaves as a copy.\n",
      "\n",
      "For example, when doing 'df[col].method(value, inplace=True)', try using 'df.method({col: value}, inplace=True)' or df[col] = df[col].method(value) instead, to perform the operation inplace on the original object.\n",
      "\n",
      "\n",
      "  prev_df['floor'].replace(floor_replace_dict['0'], '0', inplace=True) # For box-cox\n"
     ]
    }
   ],
   "source": [
    "# Convertimos valores de floor a numéricos\n",
    "floor_replace_dict = {\n",
    "    '0': [\n",
    "        'Sótano',\n",
    "        'Bajo',\n",
    "        'Sótano exterior',\n",
    "        'Sótano interior',\n",
    "        'Semi-sótano interior',\n",
    "        'Semi-sótano exterior'\n",
    "    ],\n",
    "    '1': [\n",
    "        'Entreplanta',\n",
    "        'Entreplanta interior', \n",
    "        'Entreplanta exterior'\n",
    "    ]\n",
    "}\n",
    "prev_df['floor'].replace(floor_replace_dict['0'], '0', inplace=True)\n",
    "prev_df['floor'].replace(floor_replace_dict['1'], '1', inplace=True)\n",
    "prev_df['floor'] = pd.to_numeric(prev_df['floor'], errors='coerce')"
   ]
  },
  {
   "cell_type": "code",
   "execution_count": 14,
   "metadata": {},
   "outputs": [],
   "source": [
    "prev_df.to_csv('/Users/luisgarciafresno/pra_ii/datasets/analyzed_data/clean_after_null.csv')\n",
    "prev_df.drop('buy_price', axis=1, inplace=True)"
   ]
  }
 ],
 "metadata": {
  "kernelspec": {
   "display_name": ".venv",
   "language": "python",
   "name": "python3"
  },
  "language_info": {
   "codemirror_mode": {
    "name": "ipython",
    "version": 3
   },
   "file_extension": ".py",
   "mimetype": "text/x-python",
   "name": "python",
   "nbconvert_exporter": "python",
   "pygments_lexer": "ipython3",
   "version": "3.12.6"
  },
  "orig_nbformat": 4
 },
 "nbformat": 4,
 "nbformat_minor": 2
}
